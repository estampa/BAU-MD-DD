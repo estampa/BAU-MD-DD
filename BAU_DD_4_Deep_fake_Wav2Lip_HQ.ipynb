{
  "nbformat": 4,
  "nbformat_minor": 0,
  "metadata": {
    "colab": {
      "name": "BAU-MD-DD_4-Deep_fake-Wav2Lip-HQ.ipynb",
      "provenance": [],
      "collapsed_sections": []
    },
    "kernelspec": {
      "name": "python3",
      "display_name": "Python 3"
    },
    "language_info": {
      "name": "python"
    },
    "accelerator": "GPU"
  },
  "cells": [
    {
      "cell_type": "markdown",
      "metadata": {
        "id": "fkoF-mm8CGfB"
      },
      "source": [
        "# Deepfake usando un vídeo y una voz\n",
        "\n",
        "Este cuaderno permite crear un deepfake usando un vídeo de una persona a la que aplicaremos los movimientos de boca asociados a un fichero de áudio.\n",
        "\n",
        "El fichero de vídeo debe contener siempre una cara, sinó el procesado fallará. Si contiene más una cara el resultado no es predecible."
      ]
    },
    {
      "cell_type": "code",
      "metadata": {
        "id": "Lb6Q78lTNeSj",
        "cellView": "form"
      },
      "source": [
        "#@title ▶ Instalamos las librerías necesarias\n",
        "\n",
        "!git clone https://github.com/Markfryazino/wav2lip-hq.git\n",
        "%cd wav2lip-hq\n",
        "!pip3 install -q gdown\n",
        "!pip3 install -qr requirements.txt\n",
        "\n",
        "!wget \"https://www.adrianbulat.com/downloads/python-fan/s3fd-619a316812.pth\" -O \"face_detection/detection/sfd/s3fd.pth\""
      ],
      "execution_count": null,
      "outputs": []
    },
    {
      "cell_type": "code",
      "metadata": {
        "id": "H7J5GnO7PjYo",
        "cellView": "form"
      },
      "source": [
        "#@title ▶ Descargamos los entrenamientos\n",
        "\n",
        "import gdown\n",
        "\n",
        "urls = {\n",
        "    \"wav2lip_gan.pth\": \"10Iu05Modfti3pDbxCFPnofmfVlbkvrCm\", \n",
        "    \"face_segmentation.pth\": \"154JgKpzCPW82qINcVieuPH3fZ2e0P812\",\n",
        "    \"esrgan_max.pth\": \"1e5LT83YckB5wFKXWV4cWOPkVRnCDmvwQ\"\n",
        "}\n",
        "\n",
        "for name, id in urls.items():\n",
        "    url = f\"https://drive.google.com/uc?id={id}\"\n",
        "    output = f\"checkpoints/{name}\"\n",
        "    gdown.download(url, output, quiet=False)\n",
        "    print(f\"Loaded {name}\")"
      ],
      "execution_count": null,
      "outputs": []
    },
    {
      "cell_type": "code",
      "metadata": {
        "id": "YkSRYUV-RTF9",
        "cellView": "form"
      },
      "source": [
        "#@title ▶ Conectamos el drive\n",
        "\n",
        "from google.colab import drive\n",
        "drive.mount('/content/drive')"
      ],
      "execution_count": null,
      "outputs": []
    },
    {
      "cell_type": "code",
      "metadata": {
        "id": "upzbvGOmVnJT",
        "cellView": "form"
      },
      "source": [
        "#@markdown Cambiamos las rutas para que apunten a los ficheros propios y ejecutamos el proceso.\n",
        "\n",
        "#@markdown 💬 Fichero de vídeo\n",
        "input_video = \"/content/drive/MyDrive/BAU-DD/video.mp4\" #@param {type:\"string\"}\n",
        "\n",
        "#@markdown 💬 Fichero de audio\n",
        "input_audio = \"/content/drive/MyDrive/BAU-DD/audio.mp3\" #@param {type:\"string\"}\n",
        "\n",
        "#@markdown 💬 Fichero de salida\n",
        "output_video = \"/content/drive/MyDrive/BAU-DD/deepfake.mp4\" #@param {type:\"string\"}\n",
        "\n",
        "\n",
        "\n",
        "!python inference.py \\\n",
        "        --checkpoint_path \"checkpoints/wav2lip_gan.pth\" \\\n",
        "        --segmentation_path \"checkpoints/face_segmentation.pth\" \\\n",
        "        --sr_path \"checkpoints/esrgan_max.pth\" \\\n",
        "        --face \"$input_video\" \\\n",
        "        --audio \"$input_audio\" \\\n",
        "        --outfile \"$output_video\""
      ],
      "execution_count": null,
      "outputs": []
    },
    {
      "cell_type": "markdown",
      "metadata": {
        "id": "nTHr_I7cOIH_"
      },
      "source": [
        "# Créditos\n",
        "\n",
        "Taller Estampa https://tallerestampa.com / https://github.com/estampa\n",
        "\n",
        "### Basado en\n",
        "\n",
        "[Cuaderno original](https://colab.research.google.com/drive/1bwgV-31JLNFTKCVDnJtTbP4brOUV1xaL?usp=sharing) de [Wav2Lip-HQ](https://github.com/Markfryazino/wav2lip-hq)."
      ]
    }
  ]
}