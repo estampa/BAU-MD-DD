{
  "nbformat": 4,
  "nbformat_minor": 0,
  "metadata": {
    "colab": {
      "name": "BAU - DD - 5 - Super image resolution",
      "provenance": [],
      "collapsed_sections": []
    },
    "kernelspec": {
      "name": "python3",
      "display_name": "Python 3"
    },
    "language_info": {
      "name": "python"
    },
    "accelerator": "GPU"
  },
  "cells": [
    {
      "cell_type": "markdown",
      "metadata": {
        "id": "6BPxh_VmVVIu"
      },
      "source": [
        "# Super image resolution\n",
        "\n",
        "Enlarge images using a neural network"
      ]
    },
    {
      "cell_type": "code",
      "metadata": {
        "id": "GnpnrLfMV2jU",
        "cellView": "form"
      },
      "source": [
        "#@title ▶ Install required libraries and download the pretrained models\n",
        "\n",
        "# Clone SwinIR\n",
        "!git clone https://github.com/JingyunLiang/SwinIR.git\n",
        "%cd SwinIR\n",
        "!pip install -q timm\n",
        "\n",
        "# Download the pre-trained models\n",
        "!mkdir pretrained_models\n",
        "!wget -q --show-progress https://github.com/JingyunLiang/SwinIR/releases/download/v0.0/003_realSR_BSRGAN_DFO_s64w8_SwinIR-M_x2_GAN.pth -P pretrained_models\n",
        "!wget -q --show-progress https://github.com/JingyunLiang/SwinIR/releases/download/v0.0/003_realSR_BSRGAN_DFO_s64w8_SwinIR-M_x4_GAN.pth -P pretrained_models\n",
        "!wget -q --show-progress https://github.com/JingyunLiang/SwinIR/releases/download/v0.0/003_realSR_BSRGAN_DFOWMFC_s64w8_SwinIR-L_x4_GAN.pth -P pretrained_models"
      ],
      "execution_count": null,
      "outputs": []
    },
    {
      "cell_type": "code",
      "metadata": {
        "id": "u1tiyMZJW5td",
        "cellView": "form"
      },
      "source": [
        "#@title ▶ Connect google drive\n",
        "\n",
        "from google.colab import drive\n",
        "drive.mount('/content/drive')"
      ],
      "execution_count": null,
      "outputs": []
    },
    {
      "cell_type": "code",
      "metadata": {
        "id": "XTVL4m_zXqBU",
        "cellView": "form"
      },
      "source": [
        "#@title ▶ Enlarge images\n",
        "\n",
        "#@markdown This should be the path of the folder inside Drive. The best way is to find it in the file explorer on the left, click on the 3 points, use the option \"copy path\" and paste the value here.\n",
        "\n",
        "#@markdown >⚠ The folder must contain only images, if not it may not work properly.\n",
        "#@markdown > Enlarged images will be exported in a subfolder of this path. Move or remove this folder if you want to process the images again.\n",
        "input_path = \"/content/drive/MyDrive/BAU-DD/enlarge\" #@param {type:\"string\"}\n",
        "\n",
        "#@markdown Scaling factor (enlarge the images x2 or x4)\n",
        "\n",
        "#@markdown >⚠ 2 only works with large: False\n",
        "scale = 4 #@param [2, 4] {type:\"raw\"}\n",
        "\n",
        "#@markdown Large to true should give better results, but will be slower.\n",
        "large = True #@param [\"False\", \"True\"] {type:\"raw\"}\n",
        "\n",
        "#@markdown Change it to True if you are processing \"big\" images (bigger than 700px or 800px), especially at 4 scaling factor.\n",
        "patch_wise = False #@param [\"False\", \"True\"] {type:\"raw\"}\n",
        "\n",
        "#@markdown 📌 Best quality is with `large: True` and `patch_wise: False` but it may fail due to memory requirements. It it fails try with `large: True` and `patch_wise: True`, `large: False` and `patch_wise: False` or finally `large: False` and `patch_wise: True` (in this order).\n",
        "\n",
        "import os\n",
        "import glob\n",
        "import shutil\n",
        "\n",
        "large_args = ''\n",
        "patch_args = ''\n",
        "if large:\n",
        "  large_args = '--large_model'\n",
        "  intermediate_path = 'results/swinir_real_sr_x4_large'\n",
        "  model = '003_realSR_BSRGAN_DFOWMFC_s64w8_SwinIR-L_x4_GAN.pth'\n",
        "  if patch_wise:\n",
        "    patch_args = '--tile 640'\n",
        "else:\n",
        "  intermediate_path = 'results/swinir_real_sr_x%s' % scale\n",
        "  if scale == 2:\n",
        "    model = '003_realSR_BSRGAN_DFO_s64w8_SwinIR-M_x2_GAN.pth'\n",
        "  else:\n",
        "    model = '003_realSR_BSRGAN_DFO_s64w8_SwinIR-M_x4_GAN.pth'\n",
        "  if patch_wise:\n",
        "    patch_args = '--tile 800'\n",
        "\n",
        "! time python main_test_swinir.py --task real_sr --model_path pretrained_models/$model --folder_lq $input_path --scale $scale $large_args $patch_args \n",
        "\n",
        "output_path = os.path.join(input_path, \"resize-x%s\" % scale)\n",
        "if not os.path.isdir(output_path):\n",
        "    os.makedirs(output_path)\n",
        "\n",
        "for intermediate_file in sorted(glob.glob(os.path.join(intermediate_path, '*.png'))):\n",
        "  output_file = os.path.join(output_path, os.path.basename(intermediate_file))\n",
        "  if os.path.isfile(output_file):\n",
        "    os.remove(output_file)\n",
        "  shutil.move(intermediate_file, output_path)\n",
        "\n",
        "#from google.colab import output\n",
        "#output.eval_js('new Audio(\"https://upload.wikimedia.org/wikipedia/commons/0/05/Beep-09.ogg\").play()')"
      ],
      "execution_count": null,
      "outputs": []
    },
    {
      "cell_type": "markdown",
      "metadata": {
        "id": "kNi8VV-wJDFi"
      },
      "source": [
        "# Credits\n",
        "\n",
        "Taller Estampa https://tallerestampa.com / https://github.com/estampa\n",
        "\n",
        "### Based on\n",
        "\n",
        "[SwinIR](https://github.com/JingyunLiang/SwinIR) notebook https://colab.research.google.com/gist/JingyunLiang/a5e3e54bc9ef8d7bf594f6fee8208533/swinir-demo-on-real-world-image-sr.ipynb\n"
      ]
    }
  ]
}