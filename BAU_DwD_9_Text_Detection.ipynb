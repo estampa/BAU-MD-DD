{
  "nbformat": 4,
  "nbformat_minor": 0,
  "metadata": {
    "colab": {
      "provenance": [],
      "gpuType": "T4"
    },
    "kernelspec": {
      "name": "python3",
      "display_name": "Python 3"
    },
    "language_info": {
      "name": "python"
    },
    "accelerator": "GPU"
  },
  "cells": [
    {
      "cell_type": "code",
      "execution_count": null,
      "metadata": {
        "id": "qkND0xfG653o"
      },
      "outputs": [],
      "source": [
        "!pip install easyocr"
      ]
    },
    {
      "cell_type": "code",
      "metadata": {
        "id": "QlvE_TV6KKQl"
      },
      "source": [
        "from google.colab import drive\n",
        "drive.mount('/content/drive')"
      ],
      "execution_count": null,
      "outputs": []
    },
    {
      "cell_type": "code",
      "source": [
        "import easyocr\n",
        "reader = easyocr.Reader(['en', 'es']) # this needs to run only once to load the model into memory"
      ],
      "metadata": {
        "id": "LEOear_y7kHk"
      },
      "execution_count": null,
      "outputs": []
    },
    {
      "cell_type": "code",
      "source": [
        "#@markdown This should be the path of the folder inside Drive. The best way is to find it in the file explorer on the left, click on the 3 points, use the option \"copy path\" and paste the value here.\n",
        "\n",
        "#@markdown ⚠ All the images must be in jpg or png format.\n",
        "input_path = \"/content/drive/MyDrive/BAU-DwD/voyager\" #@param {type:\"string\"}\n",
        "#@markdown The name you want to give to the UMAP (it must not contain spaces)\n",
        "output_path = \"/content/drive/MyDrive/BAU-DwD/output\" #@param {type:\"string\"}\n",
        "\n",
        "\n",
        "import os\n",
        "import glob\n",
        "from PIL import Image\n",
        "\n",
        "imagelist = sorted(glob.glob(os.path.join(input_path, \"*.jpg\")) + glob.glob(os.path.join(input_path, \"*.png\")))\n",
        "\n",
        "for file_path in imagelist:\n",
        "  file_name = os.path.basename(file_path)\n",
        "  print(file_name)\n",
        "\n",
        "  detections = reader.readtext(file_path)\n",
        "\n",
        "  img = Image.open(file_path)\n",
        "  for detection in detections:\n",
        "    print(\"\\t\", detection)\n",
        "    coords, text, conf = detection\n",
        "    cropped = img.crop((coords[0][0], coords[0][1], coords[2][0], coords[2][1]))\n",
        "    cropped_filename = text + '---' + file_name\n",
        "    cropped_path = os.path.join(output_path, cropped_filename)\n",
        "    cropped.save(cropped_path)\n",
        "\n"
      ],
      "metadata": {
        "cellView": "form",
        "id": "vSRkNbuS7TPS"
      },
      "execution_count": null,
      "outputs": []
    }
  ]
}