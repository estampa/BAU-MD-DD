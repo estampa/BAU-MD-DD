{
  "nbformat": 4,
  "nbformat_minor": 0,
  "metadata": {
    "colab": {
      "name": "BAU - DD - 3 - Yolo Estampa",
      "provenance": [],
      "collapsed_sections": []
    },
    "kernelspec": {
      "display_name": "Python 3",
      "name": "python3"
    },
    "accelerator": "GPU"
  },
  "cells": [
    {
      "cell_type": "markdown",
      "metadata": {
        "id": "zv1yUcSgd27m"
      },
      "source": [
        "# Install Estampa's version of Yolo v5"
      ]
    },
    {
      "cell_type": "markdown",
      "metadata": {
        "id": "CwiNe7DwCS-1"
      },
      "source": [
        "We download the Yolo v5 version from Estampa's Github using the command [git](https://en.wikipedia.org/wiki/Git) clone. "
      ]
    },
    {
      "cell_type": "code",
      "metadata": {
        "id": "pp-h4jZkCSXg"
      },
      "source": [
        "%cd /content\n",
        "\n",
        "!git clone https://github.com/estampa/yolov5-1.git yolov5\n",
        "\n",
        "!sed -i 's/pil=True/pil=False/' /content/yolov5/detect.py"
      ],
      "execution_count": null,
      "outputs": []
    },
    {
      "cell_type": "markdown",
      "metadata": {
        "id": "_HCpwscjCfyb"
      },
      "source": [
        "Once downloaded we install the required libraries using the comand pip. In this case, as it is usual, they are listed in a file called requirements.txt\n",
        "\n",
        "This process may take some time."
      ]
    },
    {
      "cell_type": "code",
      "metadata": {
        "id": "DKSJbP86gp4_"
      },
      "source": [
        "# We enter the directory where it was downloaded\n",
        "%cd /content/yolov5\n",
        "\n",
        "# We install the required python libraries (listed in the file requirements.txt)\n",
        "!pip install -q torch==1.10.2+cu111 torchvision==0.11.3+cu111 -f https://download.pytorch.org/whl/torch_stable.html\n",
        "!pip install -qr requirements.txt  # install"
      ],
      "execution_count": null,
      "outputs": []
    },
    {
      "cell_type": "markdown",
      "metadata": {
        "id": "dG72nEReExwe"
      },
      "source": [
        "Now we can check that the network has been correctly installed."
      ]
    },
    {
      "cell_type": "code",
      "metadata": {
        "id": "A1C67eiJEvlh"
      },
      "source": [
        "%cd /content/yolov5\n",
        "\n",
        "# We import the newly installed library in python and run a check\n",
        "from yolov5 import utils\n",
        "yolov5_display = utils.notebook_init()"
      ],
      "execution_count": null,
      "outputs": []
    },
    {
      "cell_type": "markdown",
      "metadata": {
        "id": "7WzlbCIlplyY"
      },
      "source": [
        "Once the neural network and its required libraries are installed we download a previously trained weights/model file using the command wget."
      ]
    },
    {
      "cell_type": "code",
      "metadata": {
        "id": "gLqCFAa7p1wJ"
      },
      "source": [
        "!wget https://github.com/ultralytics/yolov5/releases/download/v6.1/yolov5m6.pt"
      ],
      "execution_count": null,
      "outputs": []
    },
    {
      "cell_type": "markdown",
      "metadata": {
        "id": "4JnkELT0cIJg"
      },
      "source": [
        "Estampa's version adds some new parameters to the normal Yolo v5 commands.\n",
        "\n",
        "`--classes 0 1 2 3` Selects which classes does the network detect by their ID number. The classes and IDs can be checked [here](https://gist.github.com/AruniRC/7b3dadd004da04c80198557db5da4bda). If you omit the parameter, all the classes are detected.\n",
        "\n",
        "`--render=...` Selects which parts of the image and detections are rendered and which are hidden. Possible values are:\n",
        "*   `all`: normal yolo\n",
        "*   `none`: nothing is rendered\n",
        "*   `inside`: only the part detected by yolo is shown\n",
        "*   `outside`: only the part **not** detected by yolo is shown\n",
        "*   `frame`: only the detection frame is shown\n",
        "*   `inside+frame`: only the detection frame is shown\n",
        "*   `outside+frame`: only the detection frame is shown\n",
        "\n",
        "And to control the color used to substitude hidden parts we have two more parameters:\n",
        "*   `--bg_color`: color of the part that is not detected. An hex color (00ff00) or `transparent` \n",
        "*   `--fg_color`: color of the detected parts. An hex color (00ff00), `transparent` or `auto` (a diferent color for each class)\n",
        "\n",
        "Reference<br/><br/>\n",
        "![](https://raw.githubusercontent.com/estampa/yolov5-1/0af9fb399e812e9939908856c6b6ff1bf8ae4991/data/reference/yolo-v5-estampa-render_modes-1.jpg)\n",
        "<br/><br/>\n",
        "![](https://raw.githubusercontent.com/estampa/yolov5-1/0af9fb399e812e9939908856c6b6ff1bf8ae4991/data/reference/yolo-v5-estampa-render_modes-1.jpg)\n",
        "\n",
        "\n",
        "\n",
        "\n",
        "\n",
        "\n"
      ]
    },
    {
      "cell_type": "markdown",
      "source": [
        "And to modify the detected class name you have to modify the file `yolov5/coco.yaml` and change the names in line 18. Be careful to avoid deleting any name and check that the names are between single quotes (')."
      ],
      "metadata": {
        "id": "-natoEdI9oVt"
      }
    },
    {
      "cell_type": "markdown",
      "metadata": {
        "id": "THnqWirZNRUG"
      },
      "source": [
        "## Google drive\n",
        "\n",
        "Google Colab can also be connected to Google Drive to facilitate file management. This way your drive content will appear as a folder on the remote server and you can read and write files to it. Let's see how it works.\n",
        "\n",
        "First we have to authorise the connection by executing the following code.\n",
        "\n",
        "\n",
        "> There will be some warnings ⚠⚠⚠ , and there's a good reason: if you do this, the colab notebook code will have access to all your files there. In this case you can trust me 👼\n",
        "\n"
      ]
    },
    {
      "cell_type": "code",
      "metadata": {
        "id": "aqmgiToaOQz3"
      },
      "source": [
        "from google.colab import drive\n",
        "drive.mount('/content/drive')"
      ],
      "execution_count": null,
      "outputs": []
    },
    {
      "cell_type": "markdown",
      "metadata": {
        "id": "0EeU5Ky7O-bA"
      },
      "source": [
        "Now in the file explorer you will see all your files and folders inside *drive/MyDrive* and you can use this path to read and write files.\n",
        "\n",
        "For instance, if you want, you can create a folder called *BAU-DD* on your drive and then create an *input* and *output* folder inside. Place some pictures inside the *input* folder and execute the next script.\n",
        "\n",
        "You will se the processed *input* images in the *output* folder. They may take some time to appear, but eventually they will."
      ]
    },
    {
      "cell_type": "markdown",
      "source": [
        "## Processing the images\n",
        "\n",
        "Now you can process the images using the new parameters"
      ],
      "metadata": {
        "id": "0TGGhCOH-pMG"
      }
    },
    {
      "cell_type": "code",
      "metadata": {
        "id": "jiqSndEaP6zl"
      },
      "source": [
        "% cd /content/yolov5\n",
        "!python detect.py --weights yolov5m6.pt --img 1280 --conf 0.05 --source  /content/drive/MyDrive/BAU-DD/input --project /content/drive/MyDrive/BAU-DD --name output --exist-ok --classes 0 --render inside+frame --fg_color '00ff00' --bg_color transparent"
      ],
      "execution_count": null,
      "outputs": []
    },
    {
      "cell_type": "markdown",
      "metadata": {
        "id": "9tgbkOxbkf8B"
      },
      "source": [
        "# Finalizing\n",
        "\n",
        "When you finish working you have to remember to **stop the runtime**, because there is a time limit and to avoid wasting resources. To stop the runtime click Manage Sessions on the Runtime menu. Once the dialog opens click terminate on the current runtime.\n",
        "\n",
        "> But when you stop the runtime everything you have not saved is ⚠ **lost** ⚠, so be sure to **download** everything you want to keep before stopping it.\n"
      ]
    }
  ]
}